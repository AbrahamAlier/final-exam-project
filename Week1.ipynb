{
  "nbformat": 4,
  "nbformat_minor": 0,
  "metadata": {
    "colab": {
      "name": "Week1.ipynb",
      "provenance": [],
      "authorship_tag": "ABX9TyOe3dDQNWAzqkMHOOPXeAp1",
      "include_colab_link": true
    },
    "kernelspec": {
      "name": "python3",
      "display_name": "Python 3"
    }
  },
  "cells": [
    {
      "cell_type": "markdown",
      "metadata": {
        "id": "view-in-github",
        "colab_type": "text"
      },
      "source": [
        "<a href=\"https://colab.research.google.com/github/AbrahamAlier/final-exam-project/blob/master/Week1.ipynb\" target=\"_parent\"><img src=\"https://colab.research.google.com/assets/colab-badge.svg\" alt=\"Open In Colab\"/></a>"
      ]
    },
    {
      "cell_type": "code",
      "metadata": {
        "id": "Ylhp9AXp0kYu"
      },
      "source": [
        "import numpy as np\r\n",
        "import pandas as pd\r\n",
        "import cv2 as cv\r\n",
        "from google.colab.patches import cv2_imshow #for image display\r\n",
        "from skimage import io\r\n",
        "from skimage import transform\r\n",
        "from PIL import Image\r\n",
        "import matplotlib.pylab as plt\r\n",
        "urls = [ \"https://iiif.lib.ncsu.edu/iiif/0052574/full/800,/0/default.jpg \",\r\n",
        "        \"https://iiif.lib.ncsu.edu/iiif/0016007/full/800,/0/default.jpg\", \r\n",
        "        \"https://placekitten.com/800/571\" ]\r\n",
        "#read and display the image\r\n",
        "#loop\r\n",
        "for url in urls:\r\n",
        "  image = io.imread(url)#read image\r\n",
        "  image = cv.resize(image, (0,0), fx=0.5, fy=0.5)#resize image to half size\r\n",
        "  image_2= cv.cvtColor(image, cv.COLOR_BGR2RGB)#convert color to RGB\r\n",
        "  final_frame = cv.hconcat((image, image_2))#concatenate image\r\n",
        "  cv2_imshow(final_frame) #show image\r\n",
        "  print('\\n')\r\n",
        "  tinggi=image_2.shape[0]\r\n",
        "  lebar=image_2.shape[1]\r\n",
        "  print(\"resolusi image: tinggi * lebar \",tinggi,\" * \", lebar)\r\n",
        "  cv2_imshow(image_2)\r\n",
        "  image_2= cv.cvtColor(image, cv.COLOR_BGR2RGB)\r\n",
        "  image_3= cv.cvtColor(image, cv.COLOR_BGR2RGB)\r\n",
        "  #MAKE HORIZONTAL\r\n",
        "  for y in range(lebar):\r\n",
        "    image_3[int((tinggi)/2),y] = [255,255,255]\r\n",
        "\r\n",
        "  final_frame = cv.hconcat((image_2, image_3))\r\n",
        "  cv2_imshow(final_frame)\r\n",
        "#making a vertical line in the middle of the img\r\n",
        "  \r\n",
        "  cv.line(image_3,(0,0),(lebar,tinggi),(255,255,255),1)\r\n",
        "  cv.line(image_3,(0,tinggi),(lebar,0),(255,255,255),1)\r\n",
        "  final_frame = cv.hconcat((image_2, image_3))\r\n",
        "  cv2_imshow(final_frame)\r\n",
        "\r\n"
      ],
      "execution_count": null,
      "outputs": []
    }
  ]
}